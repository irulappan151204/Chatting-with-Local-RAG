{
 "cells": [
  {
   "cell_type": "markdown",
   "metadata": {},
   "source": [
    "Import Library"
   ]
  },
  {
   "cell_type": "code",
   "execution_count": 11,
   "metadata": {},
   "outputs": [],
   "source": [
    "from langchain.chains import RetrievalQA\n",
    "from langchain.chains import ConversationalRetrievalChain\n",
    "from langchain.memory import ConversationBufferMemory\n",
    "from langchain.document_loaders import PyMuPDFLoader"
   ]
  },
  {
   "cell_type": "markdown",
   "metadata": {},
   "source": [
    "Extract Texts from PDFs"
   ]
  },
  {
   "cell_type": "code",
   "execution_count": 1,
   "metadata": {},
   "outputs": [],
   "source": [
    "import os\n",
    "import ollama\n",
    "from langchain_community.document_loaders import PDFPlumberLoader\n",
    "\n",
    "# Replace 'your_document.pdf' with the path to your PDF file\n",
    "loader = PDFPlumberLoader('SALES STRATEGIES OF E.pdf')\n",
    "documents = loader.load()"
   ]
  },
  {
   "cell_type": "code",
   "execution_count": 2,
   "metadata": {},
   "outputs": [
    {
     "data": {
      "text/plain": [
       "[Document(metadata={'source': 'pdf/SALES STRATEGIES OF E.pdf', 'file_path': 'pdf/SALES STRATEGIES OF E.pdf', 'page': 0, 'total_pages': 4, 'Author': 'Admin', 'Creator': 'Microsoft® Word 2010', 'CreationDate': \"D:20230927090127+05'30'\", 'ModDate': \"D:20230927090127+05'30'\", 'Producer': 'Microsoft® Word 2010'}, page_content='SALES STRATEGIES OF E-COMMERCE OPERATORS PRE\\nAND POST GST\\nINTRODUCTION:\\nGoods and Services Tax (GST) is an indirect tax (or consumption tax) used in India on the\\nsupply of goods and services. It is a comprehensive, multistage, destination based tax: comprehensive\\nbecause it has subsumed almost all the indirect taxes except a few state taxes. Multi-staged as it is, the\\nGST is imposed at every step in the production process, but is meant to be refunded to all parties in\\nthe various stages of production other than the final consumer and as a destination based tax, it is\\ncollected from point of consumption and not point of origin like previous taxes. E-commerce\\nconsumption taxation has been discussed in the context of catalogue and mail order sales, as well as\\nbroader service taxation. The potential scale of aggregate transactions, on the other hand, has pushed\\nthe issue to its limit. Exemption from consumer taxes such as Sales Tax/GST/VAT may have serious\\nfiscal policy effects, hence well specified policies on their tax treatment are critical. Failure to enforce\\nthe consumption tax on on-line transactions could result in considerable income losses for state\\ngovernments, who rely heavily on combined sales tax/VAT revenue. It\\'s vital to underline the\\ncompetitive edge that internet retailers have over their brick-and-mortar competitors as a result of this\\nprocedure. This \"distorts company decisions as well as what and how customers buy.\" Vertical\\ndisparities in tax liabilities develop because the wealthy are less likely to use the internet and transact\\nthan the poor. The substantial complexity and costs of compliance are used as arguments against\\nmandating online sellers to collect sales tax. However, if tax structures and laws are simplified,\\ninternet technology makes it possible to collect sufficient consumption tax at a reasonable cost. States\\nhaving the intention of taxing consumption, implying that the target taxpayer is the consumer. When it\\ncomes to imposing a consumption tax, different legal systems are used by different countries and\\njurisdictions. The taxing jurisdiction for all in-state transactions is the state where consumption is\\nplanned or anticipated. The seller is the ultimate taxpayer and collects tax from the consumer.\\nSALES STRATEGIES OF E-COMMERCE OPERATORS PRE-GST\\nPrior to the introduction of GST in India in 2017, e-commerce operators faced a number of\\nchallenges, including:\\n● Multiple tax rates: Different states in India had different tax rates on goods and services,\\nwhich made it difficult for e-commerce operators to track and comply with tax laws.\\n● Complex tax structure: The pre-GST tax regime was complex and cumbersome, which led to\\nerrors in tax calculations and compliance issues.\\n● Cascading of taxes: Goods and services were taxed at multiple stages of the supply chain,\\nwhich led to higher prices for consumers.\\nTo overcome these challenges, e-commerce operators adopted a number of sales strategies, including:\\n● Offering discounts and promotions: E-commerce operators often offered discounts and\\npromotions to attract customers and reduce the impact of high taxes.\\n'),\n",
       " Document(metadata={'source': 'pdf/SALES STRATEGIES OF E.pdf', 'file_path': 'pdf/SALES STRATEGIES OF E.pdf', 'page': 1, 'total_pages': 4, 'Author': 'Admin', 'Creator': 'Microsoft® Word 2010', 'CreationDate': \"D:20230927090127+05'30'\", 'ModDate': \"D:20230927090127+05'30'\", 'Producer': 'Microsoft® Word 2010'}, page_content=\"● Free shipping: Many e-commerce operators offered free shipping on orders above a certain\\namount, which made their products more attractive to consumers.\\n● COD (cash on delivery): COD was a popular payment method in India, as it allowed\\ncustomers to pay for their orders after they had received them. This was beneficial for both e-\\ncommerce operators and consumers, as it reduced the risk of fraud and made it easier for\\ncustomers to shop online.\\nSALES STRATEGIES OF E-COMMERCE OPERATORS POST-GST\\nThe implementation of GST has simplified the tax structure in India and made it easier for e-\\ncommerce operators to comply with tax laws. This has led to a number of changes in the sales\\nstrategies of e-commerce operators, including:\\n● Lower prices: Due to the elimination of cascading of taxes, e-commerce operators have been\\nable to lower the prices of their products. This has made online shopping more affordable for\\nconsumers.\\n● Expanded product range: E-commerce operators are now able to sell a wider range of\\nproducts without having to worry about different tax rates in different states. This has given\\nconsumers more choices and made online shopping more convenient.\\n● Focus on customer experience: E-commerce operators are now focusing more on improving\\nthe customer experience. This includes offering faster delivery times, better customer service,\\nand easier return policies.\\nIn addition to these changes, e-commerce operators are also adopting new sales strategies such as:\\n● Personalization: E-commerce operators are using data analytics to personalize the shopping\\nexperience for each customer. This includes recommending products based on the customer's\\npast purchase history and browsing behavior.\\n● Omnichannel retailing: E-commerce operators are integrating their online and offline\\nchannels to provide a seamless shopping experience for customers. This allows customers to\\nstart shopping online and finish in-store, or vice versa.\\n● Social commerce: E-commerce operators are using social media platforms to connect with\\ncustomers and drive sales. This includes running social media contests and promotions, and\\nselling products directly through social media platforms.\\nOverall, the implementation of GST has had a positive impact on the e-commerce sector in India.\\nIt has made it easier for e-commerce operators to comply with tax laws and has led to a number of\\nchanges in their sales strategies. E-commerce operators are now focusing more on offering lower\\nprices, a wider range of products, a better customer experience, and a more personalized shopping\\nexperience. They are also adopting new sales strategies such as personalization, omnichannel\\nretailing, and social commerce.\\n\"),\n",
       " Document(metadata={'source': 'pdf/SALES STRATEGIES OF E.pdf', 'file_path': 'pdf/SALES STRATEGIES OF E.pdf', 'page': 2, 'total_pages': 4, 'Author': 'Admin', 'Creator': 'Microsoft® Word 2010', 'CreationDate': \"D:20230927090127+05'30'\", 'ModDate': \"D:20230927090127+05'30'\", 'Producer': 'Microsoft® Word 2010'}, page_content=\"COMPARISON OF PRE-GST AND POST-GST SALES STRATEGIES\\nThe following table compares the sales strategies of e-commerce operators pre-GST and post-GST:\\nStrategy Pre-GST Post-GST\\nPrices Higher due to cascading of Lower due to elimination of\\ntaxes cascading of taxes\\nProduct range Restricted due to different Expanded due to uniform\\ntax rates in different states tax rate across India\\nFocus On attracting customers and On improving the customer\\nreducing the impact of high experience and offering a\\ntaxes more personalized shopping\\nexperience\\nNew strategies Discounts and promotions, Personalization,\\nfree shipping, COD omnichannel retailing,\\nsocial commerce\\nOverall, the sales strategies of e-commerce operators post-GST are more focused on the customer. E-\\ncommerce operators are now offering lower prices, a wider range of products, and a better customer\\nexperience. They are also adopting new technologies to personalize the shopping experience and\\nimprove their operations.\\nRESEARCH METHODOLOGY;\\nSOURCES OF DATA\\nBoth primary and secondary sources is using in the research. For the secondary data sources\\nare the government's policy documents, reports from various committees, journals, periodicals,\\npublished data, and literatures on the issues\\nUsing the questionnaire method, primary data is to be collected from business functional\\nheads, tax specialists, tax administrators, tax consultants, and scholars. The questionnaires are\\ndistribute to respondents via postal mail , personal visits, and email online survey technology.\\n\"),\n",
       " Document(metadata={'source': 'pdf/SALES STRATEGIES OF E.pdf', 'file_path': 'pdf/SALES STRATEGIES OF E.pdf', 'page': 3, 'total_pages': 4, 'Author': 'Admin', 'Creator': 'Microsoft® Word 2010', 'CreationDate': \"D:20230927090127+05'30'\", 'ModDate': \"D:20230927090127+05'30'\", 'Producer': 'Microsoft® Word 2010'}, page_content='OBJECTIVES;\\n1. The Impact of GST on E-commerce\\n2.To study the awareness of GST E-commerce operator.\\n3.To analyze the performance of E-commerce before and after implementation of GST.\\n4.To identify the problems faced by the E-commerce in implementation of GST.\\nSCOPE OF A STUDY\\n\\uf0b7 An overview of the e-commerce sector in India, including its growth and trends.\\n\\uf0b7 A discussion of the pre-GST tax regime and its impact on e-commerce operators.\\n\\uf0b7 An analysis of the post-GST tax regime and its impact on e-commerce operators.\\n\\uf0b7 A comparison of the sales strategies of e-commerce operators pre- and post-GST.\\n\\uf0b7 A discussion of the new sales strategies that e-commerce operators are adopting, such\\nas personalization, omnichannel retailing, and social commerce.\\n\\uf0b7 An assessment of the impact of GST on the sales strategies of e-commerce operators.\\n\\uf0b7 The study could also include a case study of one or more e-commerce operators to\\nexamine their sales strategies in more detail.\\nThe following are some specific research questions that could be addressed in the study:\\n\\uf0b7 How have the sales strategies of e-commerce operators changed since the introduction\\nof GST?\\n\\uf0b7 What are the new sales strategies that e-commerce operators are adopting?\\n\\uf0b7 What is the impact of GST on the sales strategies of e-commerce operators?\\n\\uf0b7 What are the challenges and opportunities that e-commerce operators face in adapting\\ntheir sales strategies to the post-GST era?\\n\\uf0b7 The study could be conducted using a variety of research methods, such as surveys,\\ninterviews, and focus groups. It could also use secondary data sources, such as\\ngovernment reports, industry reports, and academic research.\\n\\uf0b7 The findings of the study could be used by e-commerce operators to develop more\\neffective sales strategies in the post-GST era. The study could also be used by\\npolicymakers to develop policies that support the growth of the e-commerce sector in\\nIndia.\\n')]"
      ]
     },
     "execution_count": 2,
     "metadata": {},
     "output_type": "execute_result"
    }
   ],
   "source": [
    "documents"
   ]
  },
  {
   "cell_type": "markdown",
   "metadata": {},
   "source": [
    " Split Text"
   ]
  },
  {
   "cell_type": "code",
   "execution_count": 3,
   "metadata": {},
   "outputs": [],
   "source": [
    "from langchain.text_splitter import RecursiveCharacterTextSplitter\n",
    "\n",
    "text_splitter = RecursiveCharacterTextSplitter(chunk_size=1000, chunk_overlap=100)\n",
    "docs = text_splitter.split_documents(documents)"
   ]
  },
  {
   "cell_type": "code",
   "execution_count": 4,
   "metadata": {},
   "outputs": [
    {
     "data": {
      "text/plain": [
       "[Document(metadata={'source': 'pdf/SALES STRATEGIES OF E.pdf', 'file_path': 'pdf/SALES STRATEGIES OF E.pdf', 'page': 0, 'total_pages': 4, 'Author': 'Admin', 'Creator': 'Microsoft® Word 2010', 'CreationDate': \"D:20230927090127+05'30'\", 'ModDate': \"D:20230927090127+05'30'\", 'Producer': 'Microsoft® Word 2010'}, page_content='SALES STRATEGIES OF E-COMMERCE OPERATORS PRE\\nAND POST GST\\nINTRODUCTION:\\nGoods and Services Tax (GST) is an indirect tax (or consumption tax) used in India on the\\nsupply of goods and services. It is a comprehensive, multistage, destination based tax: comprehensive\\nbecause it has subsumed almost all the indirect taxes except a few state taxes. Multi-staged as it is, the\\nGST is imposed at every step in the production process, but is meant to be refunded to all parties in\\nthe various stages of production other than the final consumer and as a destination based tax, it is\\ncollected from point of consumption and not point of origin like previous taxes. E-commerce\\nconsumption taxation has been discussed in the context of catalogue and mail order sales, as well as\\nbroader service taxation. The potential scale of aggregate transactions, on the other hand, has pushed\\nthe issue to its limit. Exemption from consumer taxes such as Sales Tax/GST/VAT may have serious'),\n",
       " Document(metadata={'source': 'pdf/SALES STRATEGIES OF E.pdf', 'file_path': 'pdf/SALES STRATEGIES OF E.pdf', 'page': 0, 'total_pages': 4, 'Author': 'Admin', 'Creator': 'Microsoft® Word 2010', 'CreationDate': \"D:20230927090127+05'30'\", 'ModDate': \"D:20230927090127+05'30'\", 'Producer': 'Microsoft® Word 2010'}, page_content='the issue to its limit. Exemption from consumer taxes such as Sales Tax/GST/VAT may have serious\\nfiscal policy effects, hence well specified policies on their tax treatment are critical. Failure to enforce\\nthe consumption tax on on-line transactions could result in considerable income losses for state\\ngovernments, who rely heavily on combined sales tax/VAT revenue. It\\'s vital to underline the\\ncompetitive edge that internet retailers have over their brick-and-mortar competitors as a result of this\\nprocedure. This \"distorts company decisions as well as what and how customers buy.\" Vertical\\ndisparities in tax liabilities develop because the wealthy are less likely to use the internet and transact\\nthan the poor. The substantial complexity and costs of compliance are used as arguments against\\nmandating online sellers to collect sales tax. However, if tax structures and laws are simplified,'),\n",
       " Document(metadata={'source': 'pdf/SALES STRATEGIES OF E.pdf', 'file_path': 'pdf/SALES STRATEGIES OF E.pdf', 'page': 0, 'total_pages': 4, 'Author': 'Admin', 'Creator': 'Microsoft® Word 2010', 'CreationDate': \"D:20230927090127+05'30'\", 'ModDate': \"D:20230927090127+05'30'\", 'Producer': 'Microsoft® Word 2010'}, page_content='mandating online sellers to collect sales tax. However, if tax structures and laws are simplified,\\ninternet technology makes it possible to collect sufficient consumption tax at a reasonable cost. States\\nhaving the intention of taxing consumption, implying that the target taxpayer is the consumer. When it\\ncomes to imposing a consumption tax, different legal systems are used by different countries and\\njurisdictions. The taxing jurisdiction for all in-state transactions is the state where consumption is\\nplanned or anticipated. The seller is the ultimate taxpayer and collects tax from the consumer.\\nSALES STRATEGIES OF E-COMMERCE OPERATORS PRE-GST\\nPrior to the introduction of GST in India in 2017, e-commerce operators faced a number of\\nchallenges, including:\\n● Multiple tax rates: Different states in India had different tax rates on goods and services,\\nwhich made it difficult for e-commerce operators to track and comply with tax laws.'),\n",
       " Document(metadata={'source': 'pdf/SALES STRATEGIES OF E.pdf', 'file_path': 'pdf/SALES STRATEGIES OF E.pdf', 'page': 0, 'total_pages': 4, 'Author': 'Admin', 'Creator': 'Microsoft® Word 2010', 'CreationDate': \"D:20230927090127+05'30'\", 'ModDate': \"D:20230927090127+05'30'\", 'Producer': 'Microsoft® Word 2010'}, page_content='which made it difficult for e-commerce operators to track and comply with tax laws.\\n● Complex tax structure: The pre-GST tax regime was complex and cumbersome, which led to\\nerrors in tax calculations and compliance issues.\\n● Cascading of taxes: Goods and services were taxed at multiple stages of the supply chain,\\nwhich led to higher prices for consumers.\\nTo overcome these challenges, e-commerce operators adopted a number of sales strategies, including:\\n● Offering discounts and promotions: E-commerce operators often offered discounts and\\npromotions to attract customers and reduce the impact of high taxes.'),\n",
       " Document(metadata={'source': 'pdf/SALES STRATEGIES OF E.pdf', 'file_path': 'pdf/SALES STRATEGIES OF E.pdf', 'page': 1, 'total_pages': 4, 'Author': 'Admin', 'Creator': 'Microsoft® Word 2010', 'CreationDate': \"D:20230927090127+05'30'\", 'ModDate': \"D:20230927090127+05'30'\", 'Producer': 'Microsoft® Word 2010'}, page_content='● Free shipping: Many e-commerce operators offered free shipping on orders above a certain\\namount, which made their products more attractive to consumers.\\n● COD (cash on delivery): COD was a popular payment method in India, as it allowed\\ncustomers to pay for their orders after they had received them. This was beneficial for both e-\\ncommerce operators and consumers, as it reduced the risk of fraud and made it easier for\\ncustomers to shop online.\\nSALES STRATEGIES OF E-COMMERCE OPERATORS POST-GST\\nThe implementation of GST has simplified the tax structure in India and made it easier for e-\\ncommerce operators to comply with tax laws. This has led to a number of changes in the sales\\nstrategies of e-commerce operators, including:\\n● Lower prices: Due to the elimination of cascading of taxes, e-commerce operators have been\\nable to lower the prices of their products. This has made online shopping more affordable for\\nconsumers.'),\n",
       " Document(metadata={'source': 'pdf/SALES STRATEGIES OF E.pdf', 'file_path': 'pdf/SALES STRATEGIES OF E.pdf', 'page': 1, 'total_pages': 4, 'Author': 'Admin', 'Creator': 'Microsoft® Word 2010', 'CreationDate': \"D:20230927090127+05'30'\", 'ModDate': \"D:20230927090127+05'30'\", 'Producer': 'Microsoft® Word 2010'}, page_content=\"consumers.\\n● Expanded product range: E-commerce operators are now able to sell a wider range of\\nproducts without having to worry about different tax rates in different states. This has given\\nconsumers more choices and made online shopping more convenient.\\n● Focus on customer experience: E-commerce operators are now focusing more on improving\\nthe customer experience. This includes offering faster delivery times, better customer service,\\nand easier return policies.\\nIn addition to these changes, e-commerce operators are also adopting new sales strategies such as:\\n● Personalization: E-commerce operators are using data analytics to personalize the shopping\\nexperience for each customer. This includes recommending products based on the customer's\\npast purchase history and browsing behavior.\\n● Omnichannel retailing: E-commerce operators are integrating their online and offline\\nchannels to provide a seamless shopping experience for customers. This allows customers to\"),\n",
       " Document(metadata={'source': 'pdf/SALES STRATEGIES OF E.pdf', 'file_path': 'pdf/SALES STRATEGIES OF E.pdf', 'page': 1, 'total_pages': 4, 'Author': 'Admin', 'Creator': 'Microsoft® Word 2010', 'CreationDate': \"D:20230927090127+05'30'\", 'ModDate': \"D:20230927090127+05'30'\", 'Producer': 'Microsoft® Word 2010'}, page_content='channels to provide a seamless shopping experience for customers. This allows customers to\\nstart shopping online and finish in-store, or vice versa.\\n● Social commerce: E-commerce operators are using social media platforms to connect with\\ncustomers and drive sales. This includes running social media contests and promotions, and\\nselling products directly through social media platforms.\\nOverall, the implementation of GST has had a positive impact on the e-commerce sector in India.\\nIt has made it easier for e-commerce operators to comply with tax laws and has led to a number of\\nchanges in their sales strategies. E-commerce operators are now focusing more on offering lower\\nprices, a wider range of products, a better customer experience, and a more personalized shopping\\nexperience. They are also adopting new sales strategies such as personalization, omnichannel\\nretailing, and social commerce.'),\n",
       " Document(metadata={'source': 'pdf/SALES STRATEGIES OF E.pdf', 'file_path': 'pdf/SALES STRATEGIES OF E.pdf', 'page': 2, 'total_pages': 4, 'Author': 'Admin', 'Creator': 'Microsoft® Word 2010', 'CreationDate': \"D:20230927090127+05'30'\", 'ModDate': \"D:20230927090127+05'30'\", 'Producer': 'Microsoft® Word 2010'}, page_content='COMPARISON OF PRE-GST AND POST-GST SALES STRATEGIES\\nThe following table compares the sales strategies of e-commerce operators pre-GST and post-GST:\\nStrategy Pre-GST Post-GST\\nPrices Higher due to cascading of Lower due to elimination of\\ntaxes cascading of taxes\\nProduct range Restricted due to different Expanded due to uniform\\ntax rates in different states tax rate across India\\nFocus On attracting customers and On improving the customer\\nreducing the impact of high experience and offering a\\ntaxes more personalized shopping\\nexperience\\nNew strategies Discounts and promotions, Personalization,\\nfree shipping, COD omnichannel retailing,\\nsocial commerce\\nOverall, the sales strategies of e-commerce operators post-GST are more focused on the customer. E-\\ncommerce operators are now offering lower prices, a wider range of products, and a better customer\\nexperience. They are also adopting new technologies to personalize the shopping experience and\\nimprove their operations.\\nRESEARCH METHODOLOGY;'),\n",
       " Document(metadata={'source': 'pdf/SALES STRATEGIES OF E.pdf', 'file_path': 'pdf/SALES STRATEGIES OF E.pdf', 'page': 2, 'total_pages': 4, 'Author': 'Admin', 'Creator': 'Microsoft® Word 2010', 'CreationDate': \"D:20230927090127+05'30'\", 'ModDate': \"D:20230927090127+05'30'\", 'Producer': 'Microsoft® Word 2010'}, page_content=\"improve their operations.\\nRESEARCH METHODOLOGY;\\nSOURCES OF DATA\\nBoth primary and secondary sources is using in the research. For the secondary data sources\\nare the government's policy documents, reports from various committees, journals, periodicals,\\npublished data, and literatures on the issues\\nUsing the questionnaire method, primary data is to be collected from business functional\\nheads, tax specialists, tax administrators, tax consultants, and scholars. The questionnaires are\\ndistribute to respondents via postal mail , personal visits, and email online survey technology.\"),\n",
       " Document(metadata={'source': 'pdf/SALES STRATEGIES OF E.pdf', 'file_path': 'pdf/SALES STRATEGIES OF E.pdf', 'page': 3, 'total_pages': 4, 'Author': 'Admin', 'Creator': 'Microsoft® Word 2010', 'CreationDate': \"D:20230927090127+05'30'\", 'ModDate': \"D:20230927090127+05'30'\", 'Producer': 'Microsoft® Word 2010'}, page_content='OBJECTIVES;\\n1. The Impact of GST on E-commerce\\n2.To study the awareness of GST E-commerce operator.\\n3.To analyze the performance of E-commerce before and after implementation of GST.\\n4.To identify the problems faced by the E-commerce in implementation of GST.\\nSCOPE OF A STUDY\\n\\uf0b7 An overview of the e-commerce sector in India, including its growth and trends.\\n\\uf0b7 A discussion of the pre-GST tax regime and its impact on e-commerce operators.\\n\\uf0b7 An analysis of the post-GST tax regime and its impact on e-commerce operators.\\n\\uf0b7 A comparison of the sales strategies of e-commerce operators pre- and post-GST.\\n\\uf0b7 A discussion of the new sales strategies that e-commerce operators are adopting, such\\nas personalization, omnichannel retailing, and social commerce.\\n\\uf0b7 An assessment of the impact of GST on the sales strategies of e-commerce operators.\\n\\uf0b7 The study could also include a case study of one or more e-commerce operators to\\nexamine their sales strategies in more detail.'),\n",
       " Document(metadata={'source': 'pdf/SALES STRATEGIES OF E.pdf', 'file_path': 'pdf/SALES STRATEGIES OF E.pdf', 'page': 3, 'total_pages': 4, 'Author': 'Admin', 'Creator': 'Microsoft® Word 2010', 'CreationDate': \"D:20230927090127+05'30'\", 'ModDate': \"D:20230927090127+05'30'\", 'Producer': 'Microsoft® Word 2010'}, page_content='examine their sales strategies in more detail.\\nThe following are some specific research questions that could be addressed in the study:\\n\\uf0b7 How have the sales strategies of e-commerce operators changed since the introduction\\nof GST?\\n\\uf0b7 What are the new sales strategies that e-commerce operators are adopting?\\n\\uf0b7 What is the impact of GST on the sales strategies of e-commerce operators?\\n\\uf0b7 What are the challenges and opportunities that e-commerce operators face in adapting\\ntheir sales strategies to the post-GST era?\\n\\uf0b7 The study could be conducted using a variety of research methods, such as surveys,\\ninterviews, and focus groups. It could also use secondary data sources, such as\\ngovernment reports, industry reports, and academic research.\\n\\uf0b7 The findings of the study could be used by e-commerce operators to develop more\\neffective sales strategies in the post-GST era. The study could also be used by\\npolicymakers to develop policies that support the growth of the e-commerce sector in\\nIndia.')]"
      ]
     },
     "execution_count": 4,
     "metadata": {},
     "output_type": "execute_result"
    }
   ],
   "source": [
    "docs"
   ]
  },
  {
   "cell_type": "markdown",
   "metadata": {},
   "source": [
    "Create Embedding from text chunks"
   ]
  },
  {
   "cell_type": "code",
   "execution_count": 5,
   "metadata": {},
   "outputs": [],
   "source": [
    "from langchain_ollama import OllamaEmbeddings\n",
    "\n",
    "embeddings = OllamaEmbeddings(\n",
    "    model='nomic-embed-text',\n",
    ")"
   ]
  },
  {
   "cell_type": "markdown",
   "metadata": {},
   "source": [
    "Store and Use Embeddings in Chroma DB"
   ]
  },
  {
   "cell_type": "code",
   "execution_count": 6,
   "metadata": {},
   "outputs": [
    {
     "name": "stderr",
     "output_type": "stream",
     "text": [
      "C:\\Users\\Admin\\AppData\\Local\\Temp\\ipykernel_18456\\3647467842.py:4: LangChainDeprecationWarning: The class `Chroma` was deprecated in LangChain 0.2.9 and will be removed in 1.0. An updated version of the class exists in the :class:`~langchain-chroma package and should be used instead. To use it run `pip install -U :class:`~langchain-chroma` and import as `from :class:`~langchain_chroma import Chroma``.\n",
      "  vector_store = Chroma(collection_name=\"ragllm\", embedding_function=embeddings)\n"
     ]
    },
    {
     "data": {
      "text/plain": [
       "['e57d8e65-e4dc-444e-9629-69700ea1ee84',\n",
       " '4b4b6828-4100-454a-81d2-87c950bf45d2',\n",
       " '6576265a-1d96-4a3e-868c-61f0b6ef7090',\n",
       " 'ebe4c3f8-18aa-443f-a675-594bec4561b3',\n",
       " '864e8231-6f65-4372-b8bd-572858d9714e',\n",
       " '7ebf9da9-a0b6-478a-99c1-542c9c61cc0d',\n",
       " '27e51632-92e1-4982-a4dd-7f857388f970',\n",
       " '2266f061-5de3-4c40-96b9-15a8ba534f91',\n",
       " '9938992e-a8e1-4ad0-9c6a-70d56be37187',\n",
       " '282f67ea-b2f4-4f65-92d0-78a312618552',\n",
       " 'cb582535-8a94-4aff-87ce-673de0411d43']"
      ]
     },
     "execution_count": 6,
     "metadata": {},
     "output_type": "execute_result"
    }
   ],
   "source": [
    "from langchain.vectorstores import Chroma\n",
    "\n",
    "# Initialize Chroma vector store\n",
    "vector_store = Chroma(collection_name=\"ragllm\", embedding_function=embeddings)\n",
    "\n",
    "# Add documents to the vector store\n",
    "vector_store.add_documents(docs)\n"
   ]
  },
  {
   "cell_type": "markdown",
   "metadata": {},
   "source": [
    "Initialize the model"
   ]
  },
  {
   "cell_type": "code",
   "execution_count": 7,
   "metadata": {},
   "outputs": [],
   "source": [
    "from langchain_ollama import OllamaLLM\n",
    "\n",
    "# Initialize the model\n",
    "local_model = \"llama3.2\"\n",
    "llm = OllamaLLM(model=local_model, temperature=1)\n"
   ]
  },
  {
   "cell_type": "markdown",
   "metadata": {},
   "source": [
    "Query Processing"
   ]
  },
  {
   "cell_type": "code",
   "execution_count": 8,
   "metadata": {},
   "outputs": [],
   "source": [
    "from langchain.prompts import ChatPromptTemplate, PromptTemplate\n",
    "\n",
    "QUERY_PROMPT = PromptTemplate(\n",
    "    input_variables=[\"question\"],\n",
    "    template=\"\"\"You are an AI language model assistant. Your task is to generate five\n",
    "    different versions of the given user question to retrieve relevant documents from\n",
    "    a vector database. By generating multiple perspectives on the user question, your\n",
    "    goal is to help the user overcome some of the limitations of the distance-based\n",
    "    similarity search. Provide these alternative questions separated by newlines.\n",
    "    Original question: {question}\"\"\",\n",
    ")\n"
   ]
  },
  {
   "cell_type": "code",
   "execution_count": 9,
   "metadata": {},
   "outputs": [],
   "source": [
    "from langchain.retrievers.multi_query import MultiQueryRetriever\n",
    "from langchain_ollama import ChatOllama\n",
    "\n",
    "retriever = MultiQueryRetriever.from_llm(\n",
    "                                          vector_store.as_retriever(),\n",
    "                                          ChatOllama(model=local_model),\n",
    "                                          prompt=QUERY_PROMPT\n",
    ")\n",
    "\n",
    "# RAG prompt\n",
    "template = \"\"\"Answer the question based ONLY on the following context:\n",
    "{context}\n",
    "Question: {question}\n",
    "\"\"\"\n",
    "\n",
    "prompt = ChatPromptTemplate.from_template(template)"
   ]
  },
  {
   "cell_type": "code",
   "execution_count": 10,
   "metadata": {},
   "outputs": [],
   "source": [
    "from langchain_core.runnables import RunnablePassthrough\n",
    "from langchain_core.output_parsers import StrOutputParser\n",
    "\n",
    "chain = (\n",
    "    {\"context\": retriever, \"question\": RunnablePassthrough()}\n",
    "    | prompt\n",
    "    | llm\n",
    "    | StrOutputParser()\n",
    ")"
   ]
  },
  {
   "cell_type": "markdown",
   "metadata": {},
   "source": [
    "Qery and answers"
   ]
  },
  {
   "cell_type": "code",
   "execution_count": 11,
   "metadata": {},
   "outputs": [
    {
     "data": {
      "text/markdown": [
       "Property tax is a type of tax that is levied on the value of real estate or other forms of property, such as land or buildings. It is typically collected by local governments, such as municipalities or counties, and is used to fund various public goods and services, such as education, infrastructure, and law enforcement.\n",
       "\n",
       "In general, property tax is based on the assessed value of the property, which is usually determined by a local government's appraisal process. The amount of property tax owed depends on several factors, including:\n",
       "\n",
       "1. Value of the property\n",
       "2. Local tax rates\n",
       "3. Exemptions (such as homestead exemptions or senior citizen exemptions)\n",
       "4. Any applicable abatements (reductions in tax rate)\n",
       "\n",
       "The primary purpose of property tax is to raise revenue for local governments to fund various public services and infrastructure. The amount of property tax collected can vary significantly depending on the location, type of property, and other factors.\n",
       "\n",
       "Some common types of property taxes include:\n",
       "\n",
       "1. Real estate tax\n",
       "2. Personal property tax (levied on personal belongings, such as cars or jewelry)\n",
       "3. Commercial property tax (levied on businesses)\n",
       "\n",
       "Overall, property tax is an important source of revenue for local governments, and its administration and collection can have a significant impact on residents and businesses in the affected areas."
      ],
      "text/plain": [
       "<IPython.core.display.Markdown object>"
      ]
     },
     "metadata": {},
     "output_type": "display_data"
    }
   ],
   "source": [
    "from IPython.display import Markdown, display\n",
    "\n",
    "questions = \"what is property tax?\"\n",
    "display(Markdown(chain.invoke(questions)))"
   ]
  },
  {
   "cell_type": "code",
   "execution_count": 14,
   "metadata": {},
   "outputs": [
    {
     "data": {
      "text/markdown": [
       "Goods and Services Tax (GST) is a type of consumption tax that is levied on the supply of goods and services in India. It is an indirect tax that is used to fund government expenditures.\n",
       "\n",
       "In simple terms, GST is a tax on:\n",
       "\n",
       "* Goods: products such as food, clothing, electronics, etc.\n",
       "* Services: intangible goods like transportation, education, healthcare, etc.\n",
       "\n",
       "GST is a comprehensive tax system that aims to simplify and consolidate various taxes, such as excise duty, customs duty, value-added tax (VAT), and service tax. It is a destination-based tax, meaning that it is collected at the point of consumption, rather than the point of origin."
      ],
      "text/plain": [
       "<IPython.core.display.Markdown object>"
      ]
     },
     "metadata": {},
     "output_type": "display_data"
    }
   ],
   "source": [
    "from IPython.display import Markdown, display\n",
    "\n",
    "questions = \"what is goods and Services tax?\"\n",
    "display(Markdown(chain.invoke(questions)))"
   ]
  },
  {
   "cell_type": "code",
   "execution_count": 15,
   "metadata": {},
   "outputs": [
    {
     "data": {
      "text/markdown": [
       "Based on the provided text, here are some sales strategies adopted by e-commerce operators since the introduction of GST:\n",
       "\n",
       "1. **Offering lower prices**: E-commerce operators have made online shopping more affordable for consumers by reducing prices.\n",
       "2. **Wider range of products**: E-commerce operators have expanded their product offerings to cater to a broader customer base.\n",
       "3. **Better customer experience**: E-commerce operators are focusing on providing a better customer experience through various means, such as personalization and social media engagement.\n",
       "4. **Personalization**: E-commerce operators are using data and analytics to offer personalized products and recommendations to customers.\n",
       "5. **Omnichannel retailing**: E-commerce operators are adopting omnichannel strategies that allow customers to start shopping online and finish in-store, or vice versa.\n",
       "6. **Social commerce**: E-commerce operators are using social media platforms to connect with customers and drive sales through contests, promotions, and direct product sales.\n",
       "\n",
       "These strategies have helped e-commerce operators adapt to the post-GST era and capitalize on new opportunities for growth."
      ],
      "text/plain": [
       "<IPython.core.display.Markdown object>"
      ]
     },
     "metadata": {},
     "output_type": "display_data"
    }
   ],
   "source": [
    "from IPython.display import Markdown, display\n",
    "\n",
    "questions = \"give me some SALES STRATEGIES OF E-COMMERCE?\"\n",
    "display(Markdown(chain.invoke(questions)))"
   ]
  }
 ],
 "metadata": {
  "kernelspec": {
   "display_name": "rag_env",
   "language": "python",
   "name": "python3"
  },
  "language_info": {
   "codemirror_mode": {
    "name": "ipython",
    "version": 3
   },
   "file_extension": ".py",
   "mimetype": "text/x-python",
   "name": "python",
   "nbconvert_exporter": "python",
   "pygments_lexer": "ipython3",
   "version": "3.10.11"
  }
 },
 "nbformat": 4,
 "nbformat_minor": 2
}
